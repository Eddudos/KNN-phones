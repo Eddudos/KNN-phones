{
  "nbformat": 4,
  "nbformat_minor": 0,
  "metadata": {
    "colab": {
      "name": "KNN-phones.ipynb",
      "provenance": [],
      "authorship_tag": "ABX9TyOJhPheE7hOeEXa71f/zuKs",
      "include_colab_link": true
    },
    "kernelspec": {
      "name": "python3",
      "display_name": "Python 3"
    },
    "language_info": {
      "name": "python"
    }
  },
  "cells": [
    {
      "cell_type": "markdown",
      "metadata": {
        "id": "view-in-github",
        "colab_type": "text"
      },
      "source": [
        "<a href=\"https://colab.research.google.com/github/Eddudos/KNN-phones/blob/main/KNN_phones.ipynb\" target=\"_parent\"><img src=\"https://colab.research.google.com/assets/colab-badge.svg\" alt=\"Open In Colab\"/></a>"
      ]
    },
    {
      "cell_type": "markdown",
      "metadata": {
        "id": "xP9kP6VHZpuS"
      },
      "source": [
        "# K nearest neighbors (no validation dataset) and Decision tree comaprison for phone price classification."
      ]
    },
    {
      "cell_type": "code",
      "metadata": {
        "id": "r47aVXMDZRoK"
      },
      "source": [
        "import sklearn\n",
        "import pandas as pd\n",
        "import numpy as np\n",
        "import seaborn as sns\n",
        "from sklearn.tree import DecisionTreeClassifier\n",
        "from sklearn.metrics import f1_score, accuracy_score\n",
        "import graphviz \n",
        "from sklearn import tree\n",
        "from sklearn.model_selection import train_test_split\n",
        "from sklearn.neighbors import KNeighborsClassifier\n",
        "from pathlib import Path"
      ],
      "execution_count": null,
      "outputs": []
    },
    {
      "cell_type": "code",
      "metadata": {
        "colab": {
          "base_uri": "https://localhost:8080/"
        },
        "id": "965n7JpUZ8Ch",
        "outputId": "1c4bfdec-31f0-4884-9dbc-88ac3ee7443a"
      },
      "source": [
        "!git clone https://github.com/Eddudos/KNN-phones"
      ],
      "execution_count": null,
      "outputs": [
        {
          "output_type": "stream",
          "name": "stdout",
          "text": [
            "fatal: destination path 'KNN-phones' already exists and is not an empty directory.\n"
          ]
        }
      ]
    },
    {
      "cell_type": "code",
      "metadata": {
        "id": "oxQpAnuuaAqp"
      },
      "source": [
        "ds_root = Path('KNN-phones')\n",
        "df = pd.read_csv(ds_root / '3_3_4_phones.csv', index_col=0)\n",
        "\n",
        "Y = df.loc[:, 'price_range']\n",
        "X = df.loc[:, [i for i in df.columns if i != 'price_range']]\n",
        "\n",
        "X_train, X_test, Y_train, Y_test = train_test_split(X, Y, test_size=0.20, random_state=1)"
      ],
      "execution_count": null,
      "outputs": []
    },
    {
      "cell_type": "code",
      "metadata": {
        "id": "ZW3SgKpsa5Dp"
      },
      "source": [
        "class_tree = DecisionTreeClassifier( )\n",
        "model_n = KNeighborsClassifier( n_neighbors= 7 )\n",
        "\n",
        "class_tree.fit(X_train, Y_train) \n",
        "model_n.fit(X_train, Y_train)  \n",
        "\n",
        "predtree_y = class_tree.predict(X_test)\n",
        "predneig_y = model_n.predict(X_test)"
      ],
      "execution_count": null,
      "outputs": []
    },
    {
      "cell_type": "code",
      "metadata": {
        "colab": {
          "base_uri": "https://localhost:8080/",
          "height": 54
        },
        "id": "RICYeCxFbpTv",
        "outputId": "b3c5226b-6799-46eb-cd74-854b5f4ad667"
      },
      "source": [
        "def score_model(pred, true, model):\n",
        "    accuracy = round(f1_score(pred, true, average='weighted'), 3)\n",
        "    display(f'Score: {model}: {accuracy}') \n",
        "\n",
        "score_model(pred=predtree_y, true=Y_test, model='Decision tree score')\n",
        "score_model(pred=predneig_y, true=Y_test,  model='KNN score')"
      ],
      "execution_count": null,
      "outputs": [
        {
          "output_type": "display_data",
          "data": {
            "application/vnd.google.colaboratory.intrinsic+json": {
              "type": "string"
            },
            "text/plain": [
              "'Score: Decision tree score: 0.67'"
            ]
          },
          "metadata": {}
        },
        {
          "output_type": "display_data",
          "data": {
            "application/vnd.google.colaboratory.intrinsic+json": {
              "type": "string"
            },
            "text/plain": [
              "'Score: KNN score: 0.755'"
            ]
          },
          "metadata": {}
        }
      ]
    }
  ]
}